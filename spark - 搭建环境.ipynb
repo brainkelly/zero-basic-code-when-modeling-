{
 "cells": [
  {
   "cell_type": "code",
   "execution_count": 1,
   "id": "future-morocco",
   "metadata": {},
   "outputs": [],
   "source": [
    "import pandas as pd\n",
    "import numpy as np \n",
    "from pyspark import *"
   ]
  },
  {
   "cell_type": "code",
   "execution_count": 32,
   "id": "swiss-spectrum",
   "metadata": {},
   "outputs": [],
   "source": [
    "data  = [[1,2,3,4,5],\n",
    "        [2,3,4,5,6],\n",
    "        [3,4,5,6,7]]"
   ]
  },
  {
   "cell_type": "code",
   "execution_count": 33,
   "id": "nominated-diabetes",
   "metadata": {},
   "outputs": [],
   "source": [
    "data1 = pd.DataFrame(data)"
   ]
  },
  {
   "cell_type": "code",
   "execution_count": 4,
   "id": "therapeutic-projector",
   "metadata": {},
   "outputs": [],
   "source": [
    "data1.columns = ['star','right','see','color','shiny']"
   ]
  },
  {
   "cell_type": "code",
   "execution_count": 10,
   "id": "direct-dimension",
   "metadata": {},
   "outputs": [],
   "source": [
    "data1.to_csv('./data1.csv')"
   ]
  },
  {
   "cell_type": "code",
   "execution_count": 1,
   "id": "bronze-wagon",
   "metadata": {},
   "outputs": [],
   "source": [
    "from pyspark.sql import SparkSession\n",
    "from pyspark.sql import SQLContext\n",
    "from pyspark import SparkContext\n",
    "from pyspark.sql.session import SparkSession"
   ]
  },
  {
   "cell_type": "code",
   "execution_count": 2,
   "id": "opposite-latin",
   "metadata": {},
   "outputs": [
    {
     "name": "stdout",
     "output_type": "stream",
     "text": [
      "<class 'pyspark.sql.session.SparkSession'>\n"
     ]
    }
   ],
   "source": [
    "from pyspark.context import SparkContext\n",
    "from pyspark.sql.session import SparkSession\n",
    "sc = SparkContext('local')\n",
    "spark = SparkSession(sc)\n",
    "print(type(spark))"
   ]
  },
  {
   "cell_type": "code",
   "execution_count": 14,
   "id": "blind-darkness",
   "metadata": {},
   "outputs": [],
   "source": [
    "data1 = spark.read.csv('./data1.csv')"
   ]
  },
  {
   "cell_type": "code",
   "execution_count": 34,
   "id": "electric-recorder",
   "metadata": {},
   "outputs": [],
   "source": [
    "spark_df = spark.createDataFrame(data1,['star','right','see','color','shiny'])"
   ]
  },
  {
   "cell_type": "code",
   "execution_count": 13,
   "id": "suffering-demonstration",
   "metadata": {},
   "outputs": [
    {
     "data": {
      "text/plain": [
       "pyspark.sql.dataframe.DataFrame"
      ]
     },
     "execution_count": 13,
     "metadata": {},
     "output_type": "execute_result"
    }
   ],
   "source": [
    "type(spark_df)"
   ]
  },
  {
   "cell_type": "code",
   "execution_count": 36,
   "id": "frank-harmony",
   "metadata": {},
   "outputs": [
    {
     "name": "stdout",
     "output_type": "stream",
     "text": [
      "+----+-----+---+-----+-----+\n",
      "|star|right|see|color|shiny|\n",
      "+----+-----+---+-----+-----+\n",
      "|   1|    2|  3|    4|    5|\n",
      "|   2|    3|  4|    5|    6|\n",
      "|   3|    4|  5|    6|    7|\n",
      "+----+-----+---+-----+-----+\n",
      "\n"
     ]
    }
   ],
   "source": [
    "spark_df.show(5)"
   ]
  },
  {
   "cell_type": "code",
   "execution_count": 37,
   "id": "relative-reporter",
   "metadata": {},
   "outputs": [
    {
     "data": {
      "text/html": [
       "<div>\n",
       "<style scoped>\n",
       "    .dataframe tbody tr th:only-of-type {\n",
       "        vertical-align: middle;\n",
       "    }\n",
       "\n",
       "    .dataframe tbody tr th {\n",
       "        vertical-align: top;\n",
       "    }\n",
       "\n",
       "    .dataframe thead th {\n",
       "        text-align: right;\n",
       "    }\n",
       "</style>\n",
       "<table border=\"1\" class=\"dataframe\">\n",
       "  <thead>\n",
       "    <tr style=\"text-align: right;\">\n",
       "      <th></th>\n",
       "      <th>star</th>\n",
       "      <th>right</th>\n",
       "      <th>see</th>\n",
       "      <th>color</th>\n",
       "      <th>shiny</th>\n",
       "    </tr>\n",
       "  </thead>\n",
       "  <tbody>\n",
       "    <tr>\n",
       "      <th>0</th>\n",
       "      <td>1</td>\n",
       "      <td>2</td>\n",
       "      <td>3</td>\n",
       "      <td>4</td>\n",
       "      <td>5</td>\n",
       "    </tr>\n",
       "    <tr>\n",
       "      <th>1</th>\n",
       "      <td>2</td>\n",
       "      <td>3</td>\n",
       "      <td>4</td>\n",
       "      <td>5</td>\n",
       "      <td>6</td>\n",
       "    </tr>\n",
       "    <tr>\n",
       "      <th>2</th>\n",
       "      <td>3</td>\n",
       "      <td>4</td>\n",
       "      <td>5</td>\n",
       "      <td>6</td>\n",
       "      <td>7</td>\n",
       "    </tr>\n",
       "  </tbody>\n",
       "</table>\n",
       "</div>"
      ],
      "text/plain": [
       "   star  right  see  color  shiny\n",
       "0     1      2    3      4      5\n",
       "1     2      3    4      5      6\n",
       "2     3      4    5      6      7"
      ]
     },
     "execution_count": 37,
     "metadata": {},
     "output_type": "execute_result"
    }
   ],
   "source": [
    "pd_data1 = spark_df.toPandas()\n",
    "pd_data1.head()"
   ]
  },
  {
   "cell_type": "code",
   "execution_count": 38,
   "id": "crude-garlic",
   "metadata": {},
   "outputs": [
    {
     "data": {
      "text/plain": [
       "['star', 'right', 'see', 'color', 'shiny']"
      ]
     },
     "execution_count": 38,
     "metadata": {},
     "output_type": "execute_result"
    }
   ],
   "source": [
    "labels = list(pd_data1.columns)\n",
    "labels"
   ]
  },
  {
   "cell_type": "code",
   "execution_count": 39,
   "id": "polish-andrew",
   "metadata": {},
   "outputs": [],
   "source": [
    "spark_df = spark.createDataFrame(pd_data1, labels)"
   ]
  },
  {
   "cell_type": "code",
   "execution_count": 40,
   "id": "precise-concern",
   "metadata": {},
   "outputs": [
    {
     "name": "stdout",
     "output_type": "stream",
     "text": [
      "+----+-----+---+-----+-----+\n",
      "|star|right|see|color|shiny|\n",
      "+----+-----+---+-----+-----+\n",
      "|   1|    2|  3|    4|    5|\n",
      "|   2|    3|  4|    5|    6|\n",
      "|   3|    4|  5|    6|    7|\n",
      "+----+-----+---+-----+-----+\n",
      "\n"
     ]
    }
   ],
   "source": [
    "spark_df.show(5)"
   ]
  },
  {
   "cell_type": "code",
   "execution_count": null,
   "id": "fifty-amazon",
   "metadata": {},
   "outputs": [],
   "source": []
  }
 ],
 "metadata": {
  "kernelspec": {
   "display_name": "Python 3",
   "language": "python",
   "name": "python3"
  },
  "language_info": {
   "codemirror_mode": {
    "name": "ipython",
    "version": 3
   },
   "file_extension": ".py",
   "mimetype": "text/x-python",
   "name": "python",
   "nbconvert_exporter": "python",
   "pygments_lexer": "ipython3",
   "version": "3.8.8"
  }
 },
 "nbformat": 4,
 "nbformat_minor": 5
}
