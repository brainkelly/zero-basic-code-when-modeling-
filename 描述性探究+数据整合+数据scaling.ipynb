{
 "cells": [
  {
   "cell_type": "code",
   "execution_count": 136,
   "metadata": {},
   "outputs": [],
   "source": [
    "import numpy as np \n",
    "import pandas as pd "
   ]
  },
  {
   "cell_type": "code",
   "execution_count": 137,
   "metadata": {},
   "outputs": [
    {
     "name": "stderr",
     "output_type": "stream",
     "text": [
      "/Users/senlinlidewo/opt/anaconda3/lib/python3.8/site-packages/IPython/core/interactiveshell.py:3146: DtypeWarning: Columns (3) have mixed types.Specify dtype option on import or set low_memory=False.\n",
      "  has_raised = await self.run_ast_nodes(code_ast.body, cell_name,\n"
     ]
    }
   ],
   "source": [
    "train = pd.read_csv('/Users/senlinlidewo/金融风控比赛/用户逾期/train.csv')\n",
    "test = pd.read_csv('/Users/senlinlidewo/金融风控比赛/用户逾期/test.csv')"
   ]
  },
  {
   "cell_type": "code",
   "execution_count": 38,
   "metadata": {},
   "outputs": [
    {
     "data": {
      "text/plain": [
       "Index(['OPEN_ORG_NUM', 'IDF_TYP_CD', 'GENDER', 'bad_good',\n",
       "       'LAST_OPEN_TENURE_DAYS', 'G_OS_PRCP_SUM', 'OS_PRCP_SUM_THREE',\n",
       "       'OS_PRCP_SUM_SIX', 'guozhai_flag'],\n",
       "      dtype='object')"
      ]
     },
     "execution_count": 38,
     "metadata": {},
     "output_type": "execute_result"
    }
   ],
   "source": [
    "train.columns[1:10] \n",
    "#列名"
   ]
  },
  {
   "cell_type": "code",
   "execution_count": 52,
   "metadata": {},
   "outputs": [
    {
     "data": {
      "text/plain": [
       "GENDER\n",
       "2    0.008387\n",
       "1    0.011228\n",
       "2    0.032364\n",
       "1    0.040460\n",
       "X    0.064690\n",
       "Name: bad_good, dtype: float64"
      ]
     },
     "execution_count": 52,
     "metadata": {},
     "output_type": "execute_result"
    }
   ],
   "source": [
    "train[['GENDER','bad_good']].groupby(['GENDER'], as_index=False).mean()\n",
    "##groupby内容\n",
    "train.groupby('GENDER')['bad_good'].mean().sort_values()"
   ]
  },
  {
   "cell_type": "code",
   "execution_count": 57,
   "metadata": {},
   "outputs": [
    {
     "data": {
      "image/png": "[encoded data removed]",
      "text/plain": [
       "<Figure size 1080x576 with 1 Axes>"
      ]
     },
     "metadata": {},
     "output_type": "display_data"
    }
   ],
   "source": [
    "#相关性描述作图\n",
    "import seaborn as sns\n",
    "import matplotlib.pyplot as plt\n",
    "pal = {'1':\"green\", '2':\"Pink\"}\n",
    "sns.set(style=\"darkgrid\")\n",
    "plt.subplots(figsize = (15,8))\n",
    "ax = sns.barplot(x = \"GENDER\", \n",
    "                 y = \"bad_good\", \n",
    "                 data=train, \n",
    "                 palette = pal,\n",
    "                 linewidth=5,\n",
    "                 order = ['1','2'],\n",
    "                 capsize = .05,\n",
    "\n",
    "                )\n",
    "\n",
    "plt.title(\"bad or good\", fontsize = 25,loc = 'center', pad = 40)\n",
    "plt.ylabel(\"% of passenger survived\", fontsize = 15, )\n",
    "plt.xlabel(\"Sex\",fontsize = 15);"
   ]
  },
  {
   "cell_type": "code",
   "execution_count": 138,
   "metadata": {},
   "outputs": [
    {
     "data": {
      "text/html": [
       "<div>\n",
       "<style scoped>\n",
       "    .dataframe tbody tr th:only-of-type {\n",
       "        vertical-align: middle;\n",
       "    }\n",
       "\n",
       "    .dataframe tbody tr th {\n",
       "        vertical-align: top;\n",
       "    }\n",
       "\n",
       "    .dataframe thead th {\n",
       "        text-align: right;\n",
       "    }\n",
       "</style>\n",
       "<table border=\"1\" class=\"dataframe\">\n",
       "  <thead>\n",
       "    <tr style=\"text-align: right;\">\n",
       "      <th></th>\n",
       "      <th>bad_good</th>\n",
       "    </tr>\n",
       "  </thead>\n",
       "  <tbody>\n",
       "    <tr>\n",
       "      <th>bad_good</th>\n",
       "      <td>1.000000</td>\n",
       "    </tr>\n",
       "    <tr>\n",
       "      <th>CUST_PRODUCT_CNT</th>\n",
       "      <td>0.046564</td>\n",
       "    </tr>\n",
       "    <tr>\n",
       "      <th>OPEN_ORG_NUM</th>\n",
       "      <td>0.041020</td>\n",
       "    </tr>\n",
       "    <tr>\n",
       "      <th>CUST_ACCOUNT_CNT</th>\n",
       "      <td>0.026671</td>\n",
       "    </tr>\n",
       "    <tr>\n",
       "      <th>CUST_ACCOUNT_OPEN_CNT</th>\n",
       "      <td>0.026352</td>\n",
       "    </tr>\n",
       "    <tr>\n",
       "      <th>LAST_OPEN_TENURE_DAYS</th>\n",
       "      <td>0.024913</td>\n",
       "    </tr>\n",
       "    <tr>\n",
       "      <th>CUST_ACCOUNT_LOST_CNT</th>\n",
       "      <td>0.023001</td>\n",
       "    </tr>\n",
       "    <tr>\n",
       "      <th>CUST_DEBT_AMT</th>\n",
       "      <td>0.011951</td>\n",
       "    </tr>\n",
       "    <tr>\n",
       "      <th>CUST_PRIFINA_AMT</th>\n",
       "      <td>0.010010</td>\n",
       "    </tr>\n",
       "    <tr>\n",
       "      <th>G_OS_PRCP_SUM</th>\n",
       "      <td>0.009884</td>\n",
       "    </tr>\n",
       "    <tr>\n",
       "      <th>CUST_YBT_AMT</th>\n",
       "      <td>0.009872</td>\n",
       "    </tr>\n",
       "    <tr>\n",
       "      <th>CUST_AUM</th>\n",
       "      <td>0.008797</td>\n",
       "    </tr>\n",
       "    <tr>\n",
       "      <th>CUST_ASSET_AMT</th>\n",
       "      <td>0.008797</td>\n",
       "    </tr>\n",
       "    <tr>\n",
       "      <th>L3_DR_AMT</th>\n",
       "      <td>0.005533</td>\n",
       "    </tr>\n",
       "    <tr>\n",
       "      <th>CUST_SAVING_AMT</th>\n",
       "      <td>0.005473</td>\n",
       "    </tr>\n",
       "    <tr>\n",
       "      <th>L3_CR_AMT</th>\n",
       "      <td>0.005239</td>\n",
       "    </tr>\n",
       "    <tr>\n",
       "      <th>DR_AMT</th>\n",
       "      <td>0.005114</td>\n",
       "    </tr>\n",
       "    <tr>\n",
       "      <th>CR_AMT</th>\n",
       "      <td>0.004805</td>\n",
       "    </tr>\n",
       "    <tr>\n",
       "      <th>OS_PRCP_SUM_THREE</th>\n",
       "      <td>0.004679</td>\n",
       "    </tr>\n",
       "    <tr>\n",
       "      <th>OS_PRCP_SUM_SIX</th>\n",
       "      <td>0.004679</td>\n",
       "    </tr>\n",
       "    <tr>\n",
       "      <th>CUST_FOND_AMT</th>\n",
       "      <td>0.002218</td>\n",
       "    </tr>\n",
       "    <tr>\n",
       "      <th>CR_CNT</th>\n",
       "      <td>0.001833</td>\n",
       "    </tr>\n",
       "    <tr>\n",
       "      <th>L3_CR_CNT</th>\n",
       "      <td>0.001733</td>\n",
       "    </tr>\n",
       "    <tr>\n",
       "      <th>guozhai_flag</th>\n",
       "      <td>0.001694</td>\n",
       "    </tr>\n",
       "    <tr>\n",
       "      <th>L3_DR_CNT</th>\n",
       "      <td>0.001455</td>\n",
       "    </tr>\n",
       "    <tr>\n",
       "      <th>CUST_FINA_AMT</th>\n",
       "      <td>0.001260</td>\n",
       "    </tr>\n",
       "    <tr>\n",
       "      <th>DR_CNT</th>\n",
       "      <td>0.001258</td>\n",
       "    </tr>\n",
       "    <tr>\n",
       "      <th>CUST_NADEBT_AMT</th>\n",
       "      <td>0.000826</td>\n",
       "    </tr>\n",
       "    <tr>\n",
       "      <th>CUST_METAL_AMT</th>\n",
       "      <td>0.000073</td>\n",
       "    </tr>\n",
       "    <tr>\n",
       "      <th>CUST_TENURE_MONTHS</th>\n",
       "      <td>NaN</td>\n",
       "    </tr>\n",
       "  </tbody>\n",
       "</table>\n",
       "</div>"
      ],
      "text/plain": [
       "                       bad_good\n",
       "bad_good               1.000000\n",
       "CUST_PRODUCT_CNT       0.046564\n",
       "OPEN_ORG_NUM           0.041020\n",
       "CUST_ACCOUNT_CNT       0.026671\n",
       "CUST_ACCOUNT_OPEN_CNT  0.026352\n",
       "LAST_OPEN_TENURE_DAYS  0.024913\n",
       "CUST_ACCOUNT_LOST_CNT  0.023001\n",
       "CUST_DEBT_AMT          0.011951\n",
       "CUST_PRIFINA_AMT       0.010010\n",
       "G_OS_PRCP_SUM          0.009884\n",
       "CUST_YBT_AMT           0.009872\n",
       "CUST_AUM               0.008797\n",
       "CUST_ASSET_AMT         0.008797\n",
       "L3_DR_AMT              0.005533\n",
       "CUST_SAVING_AMT        0.005473\n",
       "L3_CR_AMT              0.005239\n",
       "DR_AMT                 0.005114\n",
       "CR_AMT                 0.004805\n",
       "OS_PRCP_SUM_THREE      0.004679\n",
       "OS_PRCP_SUM_SIX        0.004679\n",
       "CUST_FOND_AMT          0.002218\n",
       "CR_CNT                 0.001833\n",
       "L3_CR_CNT              0.001733\n",
       "guozhai_flag           0.001694\n",
       "L3_DR_CNT              0.001455\n",
       "CUST_FINA_AMT          0.001260\n",
       "DR_CNT                 0.001258\n",
       "CUST_NADEBT_AMT        0.000826\n",
       "CUST_METAL_AMT         0.000073\n",
       "CUST_TENURE_MONTHS          NaN"
      ]
     },
     "execution_count": 138,
     "metadata": {},
     "output_type": "execute_result"
    }
   ],
   "source": [
    "#相关性描述\n",
    "train=train.iloc[:,1:50]\n",
    "pd.DataFrame(abs(train.corr()['bad_good']).sort_values(ascending = False))"
   ]
  },
  {
   "cell_type": "code",
   "execution_count": 73,
   "metadata": {},
   "outputs": [
    {
     "data": {
      "text/plain": [
       "bad_good                 1.000000\n",
       "LAST_OPEN_TENURE_DAYS    0.000621\n",
       "G_OS_PRCP_SUM            0.000098\n",
       "OS_PRCP_SUM_THREE        0.000022\n",
       "OS_PRCP_SUM_SIX          0.000022\n",
       "guozhai_flag             0.000003\n",
       "Name: bad_good, dtype: float64"
      ]
     },
     "execution_count": 73,
     "metadata": {},
     "output_type": "execute_result"
    }
   ],
   "source": [
    "corr = train.corr()**2\n",
    "corr.bad_good.sort_values(ascending=False)\n",
    "#平方相关性\n"
   ]
  },
  {
   "cell_type": "code",
   "execution_count": 74,
   "metadata": {},
   "outputs": [
    {
     "data": {
      "image/png": "[encoded data removed]",
      "text/plain": [
       "<Figure size 1080x864 with 2 Axes>"
      ]
     },
     "metadata": {},
     "output_type": "display_data"
    }
   ],
   "source": [
    "## heatmeap to see the correlation between features. \n",
    "# Generate a mask for the upper triangle (taken from seaborn example gallery)\n",
    "import numpy as np\n",
    "mask = np.zeros_like(train.corr(), dtype=np.bool)\n",
    "mask[np.triu_indices_from(mask)] = True\n",
    "sns.set_style('whitegrid')\n",
    "plt.subplots(figsize = (15,12))\n",
    "sns.heatmap(train.corr(), \n",
    "            annot=True,\n",
    "            mask = mask,\n",
    "            cmap = 'RdBu', ## in order to reverse the bar replace \"RdBu\" with \"RdBu_r\"\n",
    "            linewidths=.9, \n",
    "            linecolor='white',\n",
    "            fmt='.2g',\n",
    "            center = 0,\n",
    "            square=True)\n",
    "plt.title(\"Correlations Among Features\", y = 1.03,fontsize = 20, pad = 40);"
   ]
  },
  {
   "cell_type": "code",
   "execution_count": 142,
   "metadata": {},
   "outputs": [
    {
     "name": "stdout",
     "output_type": "stream",
     "text": [
      "['01' '20' '03' '09' '22' '21' '04' '07' '11' '16' '06' '05' '08' '02'\n",
      " '13' '14' '10' '12']\n"
     ]
    }
   ],
   "source": [
    "# 文字类列处理\n",
    "print(train.IDF_TYP_CD.unique())\n",
    "train.IDF_TYP_CD = train.IDF_TYP_CD.apply(lambda x:x.strip())\n",
    "train['IDF_TYP_CD'] = [i.replace('ZR','') for i in train.IDF_TYP_CD]\n",
    "#去除某列特定字符。"
   ]
  },
  {
   "cell_type": "code",
   "execution_count": 146,
   "metadata": {},
   "outputs": [],
   "source": [
    "col = list(train.columns)\n",
    "train[col] = train[col].apply(pd.to_numeric,errors='coerce').fillna(0.0)\n",
    "train = pd.DataFrame(train,dtype='float')\n",
    "#把数据转换为float格式，才能scaling"
   ]
  },
  {
   "cell_type": "code",
   "execution_count": 97,
   "metadata": {},
   "outputs": [],
   "source": [
    "# 数据准备:separating dependent and independent variables \n",
    "#有两种方式实现这一目标：train_test_split和cross_validation\n",
    "X_train = train.drop([\"bad_good\"],axis=1)\n",
    "Y_train = train.loc[:,[\"bad_good\"]]\n",
    "X_test  = test"
   ]
  },
  {
   "cell_type": "code",
   "execution_count": 182,
   "metadata": {},
   "outputs": [
    {
     "data": {
      "text/plain": [
       "191140"
      ]
     },
     "execution_count": 182,
     "metadata": {},
     "output_type": "execute_result"
    }
   ],
   "source": [
    "#第二种方法cross_validation\n",
    "train_data = train.drop(columns=[\"bad_good\"])\n",
    "train_data\n",
    "\n",
    "from sklearn.model_selection import train_test_split\n",
    "X_train,X_test,y_train,y_test = train_test_split(train_data,train[\"bad_good\"],test_size = 0.33,random_state=0)\n",
    "len(X_train)\n",
    "#train_data是待划分自变量集；train['bad_good']是在定义Y；这个步骤仅针对train集，从中划分出验证集"
   ]
  },
  {
   "cell_type": "code",
   "execution_count": 187,
   "metadata": {},
   "outputs": [
    {
     "name": "stdout",
     "output_type": "stream",
     "text": [
      "(191140, 48)\n",
      "(94145, 48)\n",
      "(191140,)\n"
     ]
    }
   ],
   "source": [
    "print(X_train.shape)\n",
    "print(X_test.shape)\n",
    "print(y_train.shape)"
   ]
  },
  {
   "cell_type": "code",
   "execution_count": 189,
   "metadata": {},
   "outputs": [
    {
     "data": {
      "text/html": [
       "<div>\n",
       "<style scoped>\n",
       "    .dataframe tbody tr th:only-of-type {\n",
       "        vertical-align: middle;\n",
       "    }\n",
       "\n",
       "    .dataframe tbody tr th {\n",
       "        vertical-align: top;\n",
       "    }\n",
       "\n",
       "    .dataframe thead th {\n",
       "        text-align: right;\n",
       "    }\n",
       "</style>\n",
       "<table border=\"1\" class=\"dataframe\">\n",
       "  <thead>\n",
       "    <tr style=\"text-align: right;\">\n",
       "      <th></th>\n",
       "      <th>OPEN_ORG_NUM</th>\n",
       "      <th>IDF_TYP_CD</th>\n",
       "      <th>GENDER</th>\n",
       "      <th>LAST_OPEN_TENURE_DAYS</th>\n",
       "      <th>G_OS_PRCP_SUM</th>\n",
       "      <th>OS_PRCP_SUM_THREE</th>\n",
       "      <th>OS_PRCP_SUM_SIX</th>\n",
       "      <th>guozhai_flag</th>\n",
       "      <th>L3_DR_AMT</th>\n",
       "      <th>L3_DR_CNT</th>\n",
       "      <th>...</th>\n",
       "      <th>CUST_LUXURY_PLATINUM_FLAG</th>\n",
       "      <th>CUST_PLATINUM_FINANCIAL_FLAG</th>\n",
       "      <th>CUST_DIAMOND_FLAG</th>\n",
       "      <th>CUST_INFINIT_FLAG</th>\n",
       "      <th>CUST_BUSINESS_FLAG</th>\n",
       "      <th>CUST_ASSET_AMT</th>\n",
       "      <th>CUST_DEBT_AMT</th>\n",
       "      <th>CUST_TENURE_MONTHS</th>\n",
       "      <th>CUST_ACCOUNT_OPEN_CNT</th>\n",
       "      <th>CUST_ACCOUNT_LOST_CNT</th>\n",
       "    </tr>\n",
       "  </thead>\n",
       "  <tbody>\n",
       "    <tr>\n",
       "      <th>0</th>\n",
       "      <td>-0.827020</td>\n",
       "      <td>-0.102591</td>\n",
       "      <td>1.034829</td>\n",
       "      <td>-0.334735</td>\n",
       "      <td>-0.076445</td>\n",
       "      <td>-0.075587</td>\n",
       "      <td>-0.075587</td>\n",
       "      <td>-0.01294</td>\n",
       "      <td>-0.105833</td>\n",
       "      <td>-0.147627</td>\n",
       "      <td>...</td>\n",
       "      <td>0.0</td>\n",
       "      <td>0.0</td>\n",
       "      <td>0.0</td>\n",
       "      <td>0.0</td>\n",
       "      <td>0.0</td>\n",
       "      <td>-0.124165</td>\n",
       "      <td>-0.164806</td>\n",
       "      <td>0.0</td>\n",
       "      <td>-0.327430</td>\n",
       "      <td>-0.2517</td>\n",
       "    </tr>\n",
       "    <tr>\n",
       "      <th>1</th>\n",
       "      <td>1.172228</td>\n",
       "      <td>-0.102591</td>\n",
       "      <td>-0.937129</td>\n",
       "      <td>-0.334735</td>\n",
       "      <td>-0.076445</td>\n",
       "      <td>-0.075587</td>\n",
       "      <td>-0.075587</td>\n",
       "      <td>-0.01294</td>\n",
       "      <td>-0.097535</td>\n",
       "      <td>-0.098705</td>\n",
       "      <td>...</td>\n",
       "      <td>0.0</td>\n",
       "      <td>0.0</td>\n",
       "      <td>0.0</td>\n",
       "      <td>0.0</td>\n",
       "      <td>0.0</td>\n",
       "      <td>-0.136174</td>\n",
       "      <td>-0.164806</td>\n",
       "      <td>0.0</td>\n",
       "      <td>-0.327430</td>\n",
       "      <td>-0.2517</td>\n",
       "    </tr>\n",
       "    <tr>\n",
       "      <th>2</th>\n",
       "      <td>0.259429</td>\n",
       "      <td>-0.102591</td>\n",
       "      <td>1.034829</td>\n",
       "      <td>-0.334735</td>\n",
       "      <td>-0.076445</td>\n",
       "      <td>-0.075587</td>\n",
       "      <td>-0.075587</td>\n",
       "      <td>-0.01294</td>\n",
       "      <td>-0.105833</td>\n",
       "      <td>-0.147627</td>\n",
       "      <td>...</td>\n",
       "      <td>0.0</td>\n",
       "      <td>0.0</td>\n",
       "      <td>0.0</td>\n",
       "      <td>0.0</td>\n",
       "      <td>0.0</td>\n",
       "      <td>-0.137566</td>\n",
       "      <td>-0.164806</td>\n",
       "      <td>0.0</td>\n",
       "      <td>-0.258496</td>\n",
       "      <td>-0.2517</td>\n",
       "    </tr>\n",
       "    <tr>\n",
       "      <th>3</th>\n",
       "      <td>3.399961</td>\n",
       "      <td>-0.102591</td>\n",
       "      <td>-0.937129</td>\n",
       "      <td>-0.334735</td>\n",
       "      <td>-0.076445</td>\n",
       "      <td>-0.075587</td>\n",
       "      <td>-0.075587</td>\n",
       "      <td>-0.01294</td>\n",
       "      <td>-0.105833</td>\n",
       "      <td>-0.147627</td>\n",
       "      <td>...</td>\n",
       "      <td>0.0</td>\n",
       "      <td>0.0</td>\n",
       "      <td>0.0</td>\n",
       "      <td>0.0</td>\n",
       "      <td>0.0</td>\n",
       "      <td>0.798128</td>\n",
       "      <td>-0.164806</td>\n",
       "      <td>0.0</td>\n",
       "      <td>-0.258496</td>\n",
       "      <td>-0.2517</td>\n",
       "    </tr>\n",
       "    <tr>\n",
       "      <th>4</th>\n",
       "      <td>-0.712777</td>\n",
       "      <td>-0.102591</td>\n",
       "      <td>1.034829</td>\n",
       "      <td>-0.334735</td>\n",
       "      <td>-0.076445</td>\n",
       "      <td>-0.075587</td>\n",
       "      <td>-0.075587</td>\n",
       "      <td>-0.01294</td>\n",
       "      <td>-0.105833</td>\n",
       "      <td>-0.147627</td>\n",
       "      <td>...</td>\n",
       "      <td>0.0</td>\n",
       "      <td>0.0</td>\n",
       "      <td>0.0</td>\n",
       "      <td>0.0</td>\n",
       "      <td>0.0</td>\n",
       "      <td>-0.139038</td>\n",
       "      <td>-0.164806</td>\n",
       "      <td>0.0</td>\n",
       "      <td>-0.327430</td>\n",
       "      <td>-0.2517</td>\n",
       "    </tr>\n",
       "  </tbody>\n",
       "</table>\n",
       "<p>5 rows × 48 columns</p>\n",
       "</div>"
      ],
      "text/plain": [
       "   OPEN_ORG_NUM  IDF_TYP_CD    GENDER  LAST_OPEN_TENURE_DAYS  G_OS_PRCP_SUM  \\\n",
       "0     -0.827020   -0.102591  1.034829              -0.334735      -0.076445   \n",
       "1      1.172228   -0.102591 -0.937129              -0.334735      -0.076445   \n",
       "2      0.259429   -0.102591  1.034829              -0.334735      -0.076445   \n",
       "3      3.399961   -0.102591 -0.937129              -0.334735      -0.076445   \n",
       "4     -0.712777   -0.102591  1.034829              -0.334735      -0.076445   \n",
       "\n",
       "   OS_PRCP_SUM_THREE  OS_PRCP_SUM_SIX  guozhai_flag  L3_DR_AMT  L3_DR_CNT  \\\n",
       "0          -0.075587        -0.075587      -0.01294  -0.105833  -0.147627   \n",
       "1          -0.075587        -0.075587      -0.01294  -0.097535  -0.098705   \n",
       "2          -0.075587        -0.075587      -0.01294  -0.105833  -0.147627   \n",
       "3          -0.075587        -0.075587      -0.01294  -0.105833  -0.147627   \n",
       "4          -0.075587        -0.075587      -0.01294  -0.105833  -0.147627   \n",
       "\n",
       "   ...  CUST_LUXURY_PLATINUM_FLAG  CUST_PLATINUM_FINANCIAL_FLAG  \\\n",
       "0  ...                        0.0                           0.0   \n",
       "1  ...                        0.0                           0.0   \n",
       "2  ...                        0.0                           0.0   \n",
       "3  ...                        0.0                           0.0   \n",
       "4  ...                        0.0                           0.0   \n",
       "\n",
       "   CUST_DIAMOND_FLAG  CUST_INFINIT_FLAG  CUST_BUSINESS_FLAG  CUST_ASSET_AMT  \\\n",
       "0                0.0                0.0                 0.0       -0.124165   \n",
       "1                0.0                0.0                 0.0       -0.136174   \n",
       "2                0.0                0.0                 0.0       -0.137566   \n",
       "3                0.0                0.0                 0.0        0.798128   \n",
       "4                0.0                0.0                 0.0       -0.139038   \n",
       "\n",
       "   CUST_DEBT_AMT  CUST_TENURE_MONTHS  CUST_ACCOUNT_OPEN_CNT  \\\n",
       "0      -0.164806                 0.0              -0.327430   \n",
       "1      -0.164806                 0.0              -0.327430   \n",
       "2      -0.164806                 0.0              -0.258496   \n",
       "3      -0.164806                 0.0              -0.258496   \n",
       "4      -0.164806                 0.0              -0.327430   \n",
       "\n",
       "   CUST_ACCOUNT_LOST_CNT  \n",
       "0                -0.2517  \n",
       "1                -0.2517  \n",
       "2                -0.2517  \n",
       "3                -0.2517  \n",
       "4                -0.2517  \n",
       "\n",
       "[5 rows x 48 columns]"
      ]
     },
     "execution_count": 189,
     "metadata": {},
     "output_type": "execute_result"
    }
   ],
   "source": [
    "#If a feature has a variance that is orders of magnitude larger than others, it might dominate the objective function and make the estimator unable to learn from other features correctly as expected.\n",
    "#MinMaxScaler-Scales the data using the max and min values so that it fits between 0 and 1.\n",
    "#StandardScaler-Scales the data so that it has mean 0 and variance of 1.\n",
    "#RobustScaler-Scales the data similary to Standard Scaler, but makes use of the median and scales using the interquertile range so as to aviod issues with large outliers.\n",
    "#Feature Scaling\n",
    "##We will be using standardscaler to transform\n",
    "header = X_train.columns  ##为后续列表添加列名\n",
    "\n",
    "from sklearn.preprocessing import StandardScaler\n",
    "std_scale = StandardScaler()\n",
    "X_train = std_scale.fit_transform(X_train)\n",
    "X_test = std_scale.transform(X_test)\n",
    "X_train = pd.DataFrame(X_train,columns=header)\n",
    "X_train.head()"
   ]
  },
  {
   "cell_type": "code",
   "execution_count": 191,
   "metadata": {},
   "outputs": [],
   "source": [
    "#其他交叉验证集划分方法：https://blog.csdn.net/u010986753/article/details/98069124"
   ]
  },
  {
   "cell_type": "code",
   "execution_count": null,
   "metadata": {},
   "outputs": [],
   "source": [
    "#相关性热力图"
   ]
  },
  {
   "cell_type": "code",
   "execution_count": null,
   "metadata": {},
   "outputs": [],
   "source": [
    "corr_train =  train_data.corr()\n",
    "sns.heatmap(corr_train)\n",
    "plt.show()"
   ]
  },
  {
   "cell_type": "code",
   "execution_count": null,
   "metadata": {},
   "outputs": [],
   "source": [
    "##定义各种类型的变量\n",
    "cat_cols = [\n",
    "     'Cabin','Embarked','Name','Sex','Ticket',\n",
    "]\n",
    "\n",
    "num_cols = list(set(train.columns) - set(cat_cols) - set([\"Survived\"]))"
   ]
  }
 ],
 "metadata": {
  "kernelspec": {
   "display_name": "Python 3",
   "language": "python",
   "name": "python3"
  },
  "language_info": {
   "codemirror_mode": {
    "name": "ipython",
    "version": 3
   },
   "file_extension": ".py",
   "mimetype": "text/x-python",
   "name": "python",
   "nbconvert_exporter": "python",
   "pygments_lexer": "ipython3",
   "version": "3.8.8"
  }
 },
 "nbformat": 4,
 "nbformat_minor": 4
}
